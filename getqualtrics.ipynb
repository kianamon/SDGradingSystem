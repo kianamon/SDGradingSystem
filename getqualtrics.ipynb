{
 "cells": [
  {
   "cell_type": "code",
   "execution_count": 1,
   "metadata": {},
   "outputs": [],
   "source": [
    "#Libraries in use:\n",
    "import pandas as pd\n",
    "import csv\n",
    "import re\n",
    "import numpy as np"
   ]
  },
  {
   "cell_type": "code",
   "execution_count": 2,
   "metadata": {},
   "outputs": [],
   "source": [
    "def getfileOral():\n",
    "    csvfile = pd.read_csv(\"./\"+\"Oral\"+\".csv\")\n",
    "    csvselect = csvfile[['Q2', 'Q3', 'SC0']]\n",
    "    csvselect = csvselect[csvselect.Q2 != '{\"ImportId\":\"QID14_TEXT\"}']\n",
    "    csvselect = csvselect[csvselect.Q2 != 'Reviewer Name (Last, First)']\n",
    "    csvselect['Team Number'] = csvselect['Q3'].apply(lambda x: re.search('ECE-(\\d+)', x).group())\n",
    "    csvselect['TeamNumber'] = csvselect['Team Number'].apply(lambda x: re.search(r'\\d+', x).group())\n",
    "    csvselect[\"Score\"] = pd.to_numeric(csvselect[\"SC0\"])\n",
    "    csvselect[\"TeamID\"] = pd.to_numeric(csvselect[\"TeamNumber\"])\n",
    "    df = csvselect[['Q2', 'Q3', 'Score', 'TeamID']]\n",
    "    df[\"AverageGrade\"] = df.groupby([\"Q3\"])[\"Score\"].transform(np.mean)\n",
    "    df[\"Graders\"] = df.groupby([\"Q3\"])[\"Q2\"].transform(sum)\n",
    "    df2 = df[['Q3', 'TeamID', 'AverageGrade', 'Graders']]\n",
    "    FinalGrades = df2.drop_duplicates()\n",
    "    FinalGrades = FinalGrades.sort_values('TeamID')\n",
    "    return FinalGrades\n",
    "def getfileWritten():\n",
    "    csvfile = pd.read_csv(\"./\"+\"Written\"+\".csv\")\n",
    "    csvselect = csvfile[['Q2', 'Q3', 'SC0']]\n",
    "    csvselect = csvselect[csvselect.Q2 != '{\"ImportId\":\"QID14_TEXT\"}']\n",
    "    csvselect = csvselect[csvselect.Q2 != 'Reviewer Name (Last, First)']\n",
    "    csvselect['Team Number'] = csvselect['Q3'].apply(lambda x: re.search('ECE-(\\d+)', x).group())\n",
    "    csvselect['TeamNumber'] = csvselect['Team Number'].apply(lambda x: re.search(r'\\d+', x).group())\n",
    "    csvselect[\"Score\"] = pd.to_numeric(csvselect[\"SC0\"])\n",
    "    csvselect[\"TeamID\"] = pd.to_numeric(csvselect[\"TeamNumber\"])\n",
    "    df = csvselect[['Q2', 'Q3', 'Score', 'TeamID']]\n",
    "    df[\"AverageGrade\"] = df.groupby([\"Q3\"])[\"Score\"].transform(np.mean)\n",
    "    df[\"Graders\"] = df.groupby([\"Q3\"])[\"Q2\"].transform(sum)\n",
    "    df2 = df[['Q3', 'TeamID', 'AverageGrade', 'Graders']]\n",
    "    FinalGrades = df2.drop_duplicates()\n",
    "    FinalGrades = FinalGrades.sort_values('TeamID')\n",
    "    return FinalGrades\n",
    "def getfileTeam():\n",
    "    csvfile = pd.read_csv(\"./\"+\"Team\"+\".csv\")\n",
    "    csvselect = csvfile[['Q2', 'Q3', 'SC0']]\n",
    "    csvselect = csvselect[csvselect.Q3 != '{\"ImportId\":\"QID14_TEXT\"}']\n",
    "    csvselect = csvselect[csvselect.Q3 != 'Reviewer Name (Last, First)']\n",
    "    csvselect[\"Score\"] = pd.to_numeric(csvselect[\"SC0\"])\n",
    "    df = csvselect[['Q2', 'Q3', 'Score']]\n",
    "    df[\"AverageGrade\"] = df.groupby([\"Q2\"])[\"Score\"].transform(np.mean)\n",
    "    df[\"Graders\"] = df.groupby([\"Q2\"])[\"Q3\"].transform(sum)\n",
    "    df2 = df[['Q2', 'AverageGrade', 'Graders']]\n",
    "    FinalGrades = df2.drop_duplicates()\n",
    "    return FinalGrades"
   ]
  },
  {
   "cell_type": "code",
   "execution_count": 3,
   "metadata": {},
   "outputs": [
    {
     "name": "stderr",
     "output_type": "stream",
     "text": [
      "/Users/Kianamon/anaconda3/lib/python3.6/site-packages/ipykernel_launcher.py:11: SettingWithCopyWarning: \n",
      "A value is trying to be set on a copy of a slice from a DataFrame.\n",
      "Try using .loc[row_indexer,col_indexer] = value instead\n",
      "\n",
      "See the caveats in the documentation: http://pandas.pydata.org/pandas-docs/stable/indexing.html#indexing-view-versus-copy\n",
      "  # This is added back by InteractiveShellApp.init_path()\n",
      "/Users/Kianamon/anaconda3/lib/python3.6/site-packages/ipykernel_launcher.py:12: SettingWithCopyWarning: \n",
      "A value is trying to be set on a copy of a slice from a DataFrame.\n",
      "Try using .loc[row_indexer,col_indexer] = value instead\n",
      "\n",
      "See the caveats in the documentation: http://pandas.pydata.org/pandas-docs/stable/indexing.html#indexing-view-versus-copy\n",
      "  if sys.path[0] == '':\n"
     ]
    }
   ],
   "source": [
    "Oral_Grades = getfileOral()\n",
    "Oral_Grades.to_csv(\"OralResults.csv\", sep=',')"
   ]
  },
  {
   "cell_type": "code",
   "execution_count": 4,
   "metadata": {},
   "outputs": [
    {
     "name": "stderr",
     "output_type": "stream",
     "text": [
      "/Users/Kianamon/anaconda3/lib/python3.6/site-packages/ipykernel_launcher.py:27: SettingWithCopyWarning: \n",
      "A value is trying to be set on a copy of a slice from a DataFrame.\n",
      "Try using .loc[row_indexer,col_indexer] = value instead\n",
      "\n",
      "See the caveats in the documentation: http://pandas.pydata.org/pandas-docs/stable/indexing.html#indexing-view-versus-copy\n",
      "/Users/Kianamon/anaconda3/lib/python3.6/site-packages/ipykernel_launcher.py:28: SettingWithCopyWarning: \n",
      "A value is trying to be set on a copy of a slice from a DataFrame.\n",
      "Try using .loc[row_indexer,col_indexer] = value instead\n",
      "\n",
      "See the caveats in the documentation: http://pandas.pydata.org/pandas-docs/stable/indexing.html#indexing-view-versus-copy\n"
     ]
    }
   ],
   "source": [
    "Written_Grades = getfileWritten()\n",
    "Written_Grades.to_csv(\"WrittenResults.csv\", sep=',')"
   ]
  },
  {
   "cell_type": "code",
   "execution_count": 4,
   "metadata": {},
   "outputs": [],
   "source": [
    "Team_Grades = getfileTeam()\n",
    "Team_Grades.to_csv(\"TeamResults.csv\", sep=',')"
   ]
  },
  {
   "cell_type": "code",
   "execution_count": null,
   "metadata": {},
   "outputs": [],
   "source": []
  }
 ],
 "metadata": {
  "kernelspec": {
   "display_name": "Python 3",
   "language": "python",
   "name": "python3"
  },
  "language_info": {
   "codemirror_mode": {
    "name": "ipython",
    "version": 3
   },
   "file_extension": ".py",
   "mimetype": "text/x-python",
   "name": "python",
   "nbconvert_exporter": "python",
   "pygments_lexer": "ipython3",
   "version": "3.6.5"
  }
 },
 "nbformat": 4,
 "nbformat_minor": 2
}
